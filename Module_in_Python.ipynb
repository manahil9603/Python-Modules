{
 "cells": [
  {
   "cell_type": "markdown",
   "id": "46e7a5c0",
   "metadata": {},
   "source": [
    "Explain the difference between import module and from module import *. Provide an example for each.\n"
   ]
  },
  {
   "cell_type": "markdown",
   "id": "3e218580",
   "metadata": {},
   "source": [
    "import module: Imports the whole module, and you access its items using dot notation (e.g., module.item).\n",
    "\n",
    "from module import *:  Imports all items from the module directly into your namespace, but it may cause name clashes and is generally not recommended for large projects."
   ]
  },
  {
   "cell_type": "code",
   "execution_count": 1,
   "id": "88d2d917",
   "metadata": {},
   "outputs": [
    {
     "name": "stdout",
     "output_type": "stream",
     "text": [
      "4.0\n",
      "4.0\n"
     ]
    }
   ],
   "source": [
    "import math\n",
    "print(math.sqrt(16))  \n",
    "\n",
    "\n",
    "from math import *\n",
    "print(sqrt(16))  \n"
   ]
  },
  {
   "cell_type": "markdown",
   "id": "935bbfe7",
   "metadata": {},
   "source": [
    "What is an alias, and how can it be used while importing a module? Provide an example.\n"
   ]
  },
  {
   "cell_type": "code",
   "execution_count": 2,
   "id": "944a369c",
   "metadata": {},
   "outputs": [
    {
     "name": "stdout",
     "output_type": "stream",
     "text": [
      "4.0\n"
     ]
    }
   ],
   "source": [
    "#An alias in Python is like a nickname for a module, function, or class. You can use it to refer to them using a shorter name\n",
    "\n",
    "import math as m  # 'm' is an alias for the math module\n",
    "print(m.sqrt(16))  \n"
   ]
  },
  {
   "cell_type": "markdown",
   "id": "1e1d37c8",
   "metadata": {},
   "source": [
    "Demonstrate the use of the importlib module to import a module dynamically."
   ]
  },
  {
   "cell_type": "code",
   "execution_count": 3,
   "id": "cd334b12",
   "metadata": {},
   "outputs": [
    {
     "name": "stdout",
     "output_type": "stream",
     "text": [
      "Module 'math' imported successfully.\n",
      "4.0\n"
     ]
    }
   ],
   "source": [
    "import importlib\n",
    "\n",
    "\n",
    "module_name = \"math\"\n",
    "\n",
    "try:\n",
    "    module = importlib.import_module(module_name)\n",
    "    print(f\"Module '{module_name}' imported successfully.\")\n",
    "    print(module.sqrt(16))  \n",
    "except ImportError:\n",
    "    print(f\"Failed to import module '{module_name}'.\")\n"
   ]
  },
  {
   "cell_type": "markdown",
   "id": "520b6194",
   "metadata": {},
   "source": [
    "Implement a function that takes an angle in degrees and converts it to radians using the math module."
   ]
  },
  {
   "cell_type": "code",
   "execution_count": 4,
   "id": "944626ba",
   "metadata": {},
   "outputs": [
    {
     "name": "stdout",
     "output_type": "stream",
     "text": [
      "90 degrees is equal to 1.57 radians.\n"
     ]
    }
   ],
   "source": [
    "def degrees_to_radians(degrees):\n",
    "    radians = math.radians(degrees)\n",
    "    return radians\n",
    "\n",
    "angle_in_degrees = 90\n",
    "angle_in_radians = degrees_to_radians(angle_in_degrees)\n",
    "print(f\"{angle_in_degrees} degrees is equal to {angle_in_radians:.2f} radians.\")\n"
   ]
  },
  {
   "cell_type": "markdown",
   "id": "b81395fe",
   "metadata": {},
   "source": [
    "Create a program that simulates the rolling of a six-sided die using the random module."
   ]
  },
  {
   "cell_type": "code",
   "execution_count": 5,
   "id": "f5698b8a",
   "metadata": {},
   "outputs": [
    {
     "name": "stdout",
     "output_type": "stream",
     "text": [
      "The die rolled: 6\n"
     ]
    }
   ],
   "source": [
    "import random\n",
    "\n",
    "def roll_die():\n",
    "    return random.randint(1, 6)\n",
    "\n",
    "die_roll = roll_die()\n",
    "print(f\"The die rolled: {die_roll}\")\n"
   ]
  },
  {
   "cell_type": "markdown",
   "id": "aefd02a7",
   "metadata": {},
   "source": [
    "Implement a timer function that measures the execution time of a piece of code using the time module."
   ]
  },
  {
   "cell_type": "code",
   "execution_count": 6,
   "id": "b779c39c",
   "metadata": {},
   "outputs": [
    {
     "name": "stdout",
     "output_type": "stream",
     "text": [
      "Execution time: 2.0001 seconds\n"
     ]
    }
   ],
   "source": [
    "import time\n",
    "\n",
    "def timer(func):\n",
    "    start_time = time.time()\n",
    "    func()\n",
    "    end_time = time.time()\n",
    "    return end_time - start_time\n",
    "\n",
    "\n",
    "def my_function():\n",
    "    time.sleep(2)  \n",
    "\n",
    "execution_time = timer(my_function)\n",
    "print(f\"Execution time: {execution_time:.4f} seconds\")\n"
   ]
  },
  {
   "cell_type": "markdown",
   "id": "6d6cdae3",
   "metadata": {},
   "source": [
    "Write a function that calculates the difference in days between two given dates using the datetime module."
   ]
  },
  {
   "cell_type": "code",
   "execution_count": 7,
   "id": "65c3ce92",
   "metadata": {},
   "outputs": [
    {
     "name": "stdout",
     "output_type": "stream",
     "text": [
      "Difference in days between 2023-01-01 and 2023-01-10: 9 days\n"
     ]
    }
   ],
   "source": [
    "from datetime import datetime\n",
    "\n",
    "def difference_in_days(date1, date2):\n",
    "    date1_obj = datetime.strptime(date1, '%Y-%m-%d')\n",
    "    date2_obj = datetime.strptime(date2, '%Y-%m-%d')\n",
    "    difference = date2_obj - date1_obj\n",
    "    return abs(difference.days)\n",
    "\n",
    "\n",
    "date1 = '2023-01-01'\n",
    "date2 = '2023-01-10'\n",
    "print(f\"Difference in days between {date1} and {date2}: {difference_in_days(date1, date2)} days\")\n"
   ]
  },
  {
   "cell_type": "markdown",
   "id": "729111d8",
   "metadata": {},
   "source": [
    "Implement a program that checks if a given year is a leap year using the calendar module."
   ]
  },
  {
   "cell_type": "code",
   "execution_count": 8,
   "id": "067716aa",
   "metadata": {},
   "outputs": [
    {
     "name": "stdout",
     "output_type": "stream",
     "text": [
      "2024 is a leap year.\n"
     ]
    }
   ],
   "source": [
    "import calendar\n",
    "\n",
    "def is_leap_year(year):\n",
    "    return calendar.isleap(year)\n",
    "\n",
    "\n",
    "year = 2024\n",
    "if is_leap_year(year):\n",
    "    print(f\"{year} is a leap year.\")\n",
    "else:\n",
    "    print(f\"{year} is not a leap year.\")\n"
   ]
  },
  {
   "cell_type": "markdown",
   "id": "8c4f73f2",
   "metadata": {},
   "source": [
    "Create a program that checks if a specific file exists in a given directory using the os module."
   ]
  },
  {
   "cell_type": "code",
   "execution_count": 10,
   "id": "f62123d1",
   "metadata": {},
   "outputs": [
    {
     "name": "stdout",
     "output_type": "stream",
     "text": [
      "The file 'f1.txt' does not exist in the directory 'ThisPC/Desktop'.\n"
     ]
    }
   ],
   "source": [
    "import os\n",
    "\n",
    "def file_exists(directory, filename):\n",
    "    file_path = os.path.join(directory, filename)\n",
    "    return os.path.isfile(file_path)\n",
    "\n",
    "directory = 'ThisPC/Desktop'\n",
    "filename = 'f1.txt'\n",
    "\n",
    "if file_exists(directory, filename):\n",
    "    print(f\"The file '{filename}' exists in the directory '{directory}'.\")\n",
    "else:\n",
    "    print(f\"The file '{filename}' does not exist in the directory '{directory}'.\")\n"
   ]
  },
  {
   "cell_type": "markdown",
   "id": "c1b34e47",
   "metadata": {},
   "source": [
    "Write a program that uses threading to perform parallel execution of three tasks."
   ]
  },
  {
   "cell_type": "code",
   "execution_count": 11,
   "id": "954bcf1d",
   "metadata": {},
   "outputs": [
    {
     "name": "stdout",
     "output_type": "stream",
     "text": [
      "Task 1 started\n",
      "Task 2 started\n",
      "Task 3 started\n",
      "Task 3 completed\n",
      "Task 1 completed\n",
      "Task 2 completed\n",
      "All tasks completed\n"
     ]
    }
   ],
   "source": [
    "import threading\n",
    "import time\n",
    "\n",
    "def task1():\n",
    "    print(\"Task 1 started\")\n",
    "    time.sleep(2) \n",
    "    print(\"Task 1 completed\")\n",
    "\n",
    "def task2():\n",
    "    print(\"Task 2 started\")\n",
    "    time.sleep(3)  \n",
    "    print(\"Task 2 completed\")\n",
    "\n",
    "def task3():\n",
    "    print(\"Task 3 started\")\n",
    "    time.sleep(1)  \n",
    "    print(\"Task 3 completed\")\n",
    "\n",
    "\n",
    "thread1 = threading.Thread(target=task1)\n",
    "thread2 = threading.Thread(target=task2)\n",
    "thread3 = threading.Thread(target=task3)\n",
    "\n",
    "\n",
    "thread1.start()\n",
    "thread2.start()\n",
    "thread3.start()\n",
    "\n",
    "\n",
    "thread1.join()\n",
    "thread2.join()\n",
    "thread3.join()\n",
    "\n",
    "print(\"All tasks completed\")\n"
   ]
  },
  {
   "cell_type": "markdown",
   "id": "0fdd3e7c",
   "metadata": {},
   "source": [
    "Implement a program that downloads an image from a URL using the urllib module."
   ]
  },
  {
   "cell_type": "code",
   "execution_count": 13,
   "id": "950950d9",
   "metadata": {},
   "outputs": [
    {
     "name": "stdout",
     "output_type": "stream",
     "text": [
      "Image downloaded successfully and saved as 'lioness.jpg'\n"
     ]
    }
   ],
   "source": [
    "import urllib.request\n",
    "\n",
    "def download_image(url, filename):\n",
    "    urllib.request.urlretrieve(url, filename)\n",
    "    print(f\"Image downloaded successfully and saved as '{filename}'\")\n",
    "\n",
    "\n",
    "image_url = \"https://www.bing.com/images/search?view=detailV2&ccid=4WlxPjuv&id=392B29FE8850D26CFC1A452A28EB19D1CB18AF9F&thid=OIP.4WlxPjuvyd4zKojlIY230wHaEK&mediaurl=https%3a%2f%2fth.bing.com%2fth%2fid%2fR.e169713e3bafc9de332a88e5218db7d3%3frik%3dn68Yy9EZ6ygqRQ%26riu%3dhttp%253a%252f%252fhddesktopwallpapers.in%252fwp-content%252fuploads%252f2015%252f09%252fimages-of-a-lioness.jpg%26ehk%3dFWMmXEWd1YXr3W9%252bL8AIV6lEtdZu46lfneP4%252bcz8Sng%253d%26risl%3d%26pid%3dImgRaw%26r%3d0&exph=1080&expw=1920&q=lioness&simid=607996344235792356&FORM=IRPRST&ck=47979065ED2E52F1DF749C94A5741671&selectedIndex=2&itb=0&ajaxhist=0&ajaxserp=0\"\n",
    "file_name = \"lioness.jpg\"\n",
    "download_image(image_url, file_name)\n"
   ]
  }
 ],
 "metadata": {
  "kernelspec": {
   "display_name": "Python 3 (ipykernel)",
   "language": "python",
   "name": "python3"
  },
  "language_info": {
   "codemirror_mode": {
    "name": "ipython",
    "version": 3
   },
   "file_extension": ".py",
   "mimetype": "text/x-python",
   "name": "python",
   "nbconvert_exporter": "python",
   "pygments_lexer": "ipython3",
   "version": "3.11.5"
  }
 },
 "nbformat": 4,
 "nbformat_minor": 5
}
